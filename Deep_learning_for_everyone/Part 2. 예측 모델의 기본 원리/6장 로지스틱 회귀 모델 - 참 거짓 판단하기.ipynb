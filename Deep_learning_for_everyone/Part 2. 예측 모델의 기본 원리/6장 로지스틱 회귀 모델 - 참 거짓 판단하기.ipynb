{
 "cells": [
  {
   "cell_type": "markdown",
   "id": "29dc559a-ccea-4805-81e7-f13242f6c1e8",
   "metadata": {},
   "source": [
    "#### 5. 텐서플로에서 실행하는 로지스틱 회귀 모델\n",
    "---"
   ]
  },
  {
   "cell_type": "code",
   "execution_count": 8,
   "id": "eb3faf39-2c4e-4e5c-85f3-4728b343727d",
   "metadata": {},
   "outputs": [],
   "source": [
    "import numpy as np\n",
    "import matplotlib.pyplot as plt\n",
    "import tensorflow as tf\n",
    "from tensorflow.keras.models import Sequential\n",
    "from tensorflow.keras.layers import Dense"
   ]
  },
  {
   "cell_type": "code",
   "execution_count": null,
   "id": "ce8bc2c1-265e-4cde-b698-ca815c7c0f7d",
   "metadata": {},
   "outputs": [],
   "source": [
    "x = np.array([2, 4, 6, 8, 10, 12, 14])\n",
    "y = np.array([0, 0, 0, 1, 1, 1, 1])"
   ]
  },
  {
   "cell_type": "code",
   "execution_count": null,
   "id": "7aa348c5-c944-4d46-ada1-24676e45e823",
   "metadata": {},
   "outputs": [],
   "source": [
    "model = Sequential()\n",
    "model.add(Dense(1, input_dim=1, activation='sigmoid'))\n",
    "\n",
    "model.compile(optimizer='sgd', loss='binary_crossentropy')\n",
    "model.fit(x, y, epochs=5000)"
   ]
  },
  {
   "cell_type": "code",
   "execution_count": null,
   "id": "47f44440-d693-4a79-8811-5361af28cd12",
   "metadata": {},
   "outputs": [],
   "source": [
    "plt.scatter(x, y)\n",
    "plt.plot(x, model.predict(x), 'r')\n",
    "plt.show()"
   ]
  },
  {
   "cell_type": "code",
   "execution_count": null,
   "id": "77341562-6ac9-42c9-9d29-1053ed40ac8a",
   "metadata": {},
   "outputs": [],
   "source": [
    "hour = 7\n",
    "input_data = tf.constant([[hour]])\n",
    "prediction = model.predict(input_data)[0][0]\n",
    "\n",
    "print(\"%.f시간을 공부할 경우, 합격 예상 확률은 %.01%%입니다.\" % (hour, prediction * 100))"
   ]
  }
 ],
 "metadata": {
  "kernelspec": {
   "display_name": "Python [conda env:base] *",
   "language": "python",
   "name": "conda-base-py"
  },
  "language_info": {
   "codemirror_mode": {
    "name": "ipython",
    "version": 3
   },
   "file_extension": ".py",
   "mimetype": "text/x-python",
   "name": "python",
   "nbconvert_exporter": "python",
   "pygments_lexer": "ipython3",
   "version": "3.12.7"
  }
 },
 "nbformat": 4,
 "nbformat_minor": 5
}
