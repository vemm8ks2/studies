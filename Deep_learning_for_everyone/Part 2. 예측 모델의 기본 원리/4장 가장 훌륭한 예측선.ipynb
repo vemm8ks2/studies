{
 "cells": [
  {
   "cell_type": "markdown",
   "id": "1f79d488-23d5-4250-81c5-cbe213a892d6",
   "metadata": {},
   "source": [
    "#### 4. 파이썬 코딩으로 확인하는 최소 제곱\n",
    "---"
   ]
  },
  {
   "cell_type": "code",
   "execution_count": 2,
   "id": "c7b08cfb-bf66-49fd-b811-776ba6490365",
   "metadata": {},
   "outputs": [
    {
     "name": "stdout",
     "output_type": "stream",
     "text": [
      "x의 평균값: 5.0\n",
      "y의 평균값: 90.5\n"
     ]
    }
   ],
   "source": [
    "import numpy as np\n",
    "\n",
    "x = np.array([2, 4, 6, 8]) # 공부 시간\n",
    "y = np.array([81, 93, 91, 97]) # 최종 점수\n",
    "\n",
    "mx = np.mean(x) # x의 평균값\n",
    "my = np.mean(y) # y의 평균값\n",
    "\n",
    "print(\"x의 평균값:\", mx)\n",
    "print(\"y의 평균값:\", my)"
   ]
  },
  {
   "cell_type": "code",
   "execution_count": 4,
   "id": "5204af19-75b7-47e5-b48b-877f28e8f05a",
   "metadata": {},
   "outputs": [
    {
     "name": "stdout",
     "output_type": "stream",
     "text": [
      "분모: 20.0\n",
      "분자: 46.0\n"
     ]
    }
   ],
   "source": [
    "divisor = sum([(i - mx)**2 for i in x]) # 기울기 공식의 분모 부분\n",
    "\n",
    "def top(x, mx, y, my): \n",
    "    d = 0\n",
    "    for i in range(len(x)):\n",
    "        d += (x[i] - mx) * (y[i] - my)\n",
    "    return d\n",
    "\n",
    "dividend = top(x, mx, y, my) # 기울기 공식의 분자 부분\n",
    "\n",
    "print(\"분모:\", divisor)\n",
    "print(\"분자:\", dividend)"
   ]
  },
  {
   "cell_type": "code",
   "execution_count": 6,
   "id": "b394dc6c-6d0a-4c8c-9ccd-4a8a6c37c31c",
   "metadata": {},
   "outputs": [
    {
     "name": "stdout",
     "output_type": "stream",
     "text": [
      "기울기 a: 2.3\n",
      "y절편 b: 79.0\n"
     ]
    }
   ],
   "source": [
    "a = dividend / divisor # 기울기 a를 구하는 공식\n",
    "b = my - (mx*a) # y절편 b를 구하는 공식\n",
    "\n",
    "print(\"기울기 a:\", a)\n",
    "print(\"y절편 b:\", b)"
   ]
  },
  {
   "cell_type": "markdown",
   "id": "03c7b6d4-8465-416e-94f9-67a0d83aeb77",
   "metadata": {},
   "source": [
    "<br>\n",
    "\n",
    "#### 6. 파이썬 코딩으로 확인하는 평균 제곱 오차\n",
    "---"
   ]
  },
  {
   "cell_type": "code",
   "execution_count": 10,
   "id": "d10cc969-7532-414c-a779-3025b0f0f842",
   "metadata": {},
   "outputs": [
    {
     "name": "stdout",
     "output_type": "stream",
     "text": [
      "공부시간=2, 실제점수=81, 예측점수=82\n",
      "공부시간=4, 실제점수=93, 예측점수=88\n",
      "공부시간=6, 실제점수=91, 예측점수=94\n",
      "공부시간=8, 실제점수=97, 예측점수=100\n",
      "평균 제곱 오차: 11.0\n"
     ]
    }
   ],
   "source": [
    "import numpy as np\n",
    "\n",
    "# 가상의 기울기 a와 y절편 b\n",
    "fake_a = 3\n",
    "fake_b = 76\n",
    "\n",
    "x = np.array([2, 4, 6, 8]) # 공부 시간\n",
    "y = np.array([81, 93, 91, 97]) # 최종 점수\n",
    "\n",
    "# y = ax + b에 가상의 a 값과 b 값을 대입한 결과를 출력하는 함수\n",
    "def predict(x):\n",
    "    return fake_a * x + fake_b\n",
    "\n",
    "predict_result = [] # 예측 값 리스트\n",
    "\n",
    "# 모든 x 값을 한 번씩 대입\n",
    "for i in range(len(x)):\n",
    "    predict_result.append(predict(x[i]))\n",
    "    print(\"공부시간=%.f, 실제점수=%.f, 예측점수=%.f\" % (x[i], y[i], predict(x[i])))\n",
    "\n",
    "# 평균 제곱 오차 함수를 각 y 값에 대입하여 최종 값을 구하는 함수\n",
    "n = len(x)\n",
    "def mse(y, y_pred):\n",
    "    return (1/n) * sum((y - y_pred)**2)\n",
    "\n",
    "print(\"평균 제곱 오차:\", str(mse(y, predict_result)))"
   ]
  },
  {
   "cell_type": "code",
   "execution_count": null,
   "id": "5a2dbf46-93f3-4d2f-bf6a-1a6996578998",
   "metadata": {},
   "outputs": [],
   "source": []
  }
 ],
 "metadata": {
  "kernelspec": {
   "display_name": "Python [conda env:base] *",
   "language": "python",
   "name": "conda-base-py"
  },
  "language_info": {
   "codemirror_mode": {
    "name": "ipython",
    "version": 3
   },
   "file_extension": ".py",
   "mimetype": "text/x-python",
   "name": "python",
   "nbconvert_exporter": "python",
   "pygments_lexer": "ipython3",
   "version": "3.12.7"
  }
 },
 "nbformat": 4,
 "nbformat_minor": 5
}
