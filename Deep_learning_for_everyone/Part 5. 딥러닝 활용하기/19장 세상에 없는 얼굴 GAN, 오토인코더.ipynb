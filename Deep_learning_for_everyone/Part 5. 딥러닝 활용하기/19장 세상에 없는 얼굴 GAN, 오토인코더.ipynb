{
 "cells": [
  {
   "cell_type": "markdown",
   "id": "9d3e79ef-d390-43ce-9d4f-85b641d80c19",
   "metadata": {},
   "source": [
    "#### 1. 가짜 제조 공장, 생성자\n",
    "---"
   ]
  },
  {
   "cell_type": "code",
   "execution_count": 2,
   "id": "371b7f40-23eb-4863-8040-c910d1cce1f3",
   "metadata": {},
   "outputs": [
    {
     "name": "stderr",
     "output_type": "stream",
     "text": [
      "C:\\anaconda\\Lib\\site-packages\\keras\\src\\layers\\core\\dense.py:87: UserWarning: Do not pass an `input_shape`/`input_dim` argument to a layer. When using Sequential models, prefer using an `Input(shape)` object as the first layer in the model instead.\n",
      "  super().__init__(activity_regularizer=activity_regularizer, **kwargs)\n"
     ]
    },
    {
     "ename": "TypeError",
     "evalue": "Reshape.__init__() takes 2 positional arguments but 4 were given",
     "output_type": "error",
     "traceback": [
      "\u001b[1;31m---------------------------------------------------------------------------\u001b[0m",
      "\u001b[1;31mTypeError\u001b[0m                                 Traceback (most recent call last)",
      "Cell \u001b[1;32mIn[2], line 9\u001b[0m\n\u001b[0;32m      7\u001b[0m generator\u001b[38;5;241m.\u001b[39madd(Dense(\u001b[38;5;241m128\u001b[39m\u001b[38;5;241m*\u001b[39m\u001b[38;5;241m7\u001b[39m\u001b[38;5;241m*\u001b[39m\u001b[38;5;241m7\u001b[39m, input_dim\u001b[38;5;241m=\u001b[39m\u001b[38;5;241m100\u001b[39m, activation\u001b[38;5;241m=\u001b[39mLeakyReLU(\u001b[38;5;241m0.2\u001b[39m)))\n\u001b[0;32m      8\u001b[0m generator\u001b[38;5;241m.\u001b[39madd(BatchNormalization())\n\u001b[1;32m----> 9\u001b[0m generator\u001b[38;5;241m.\u001b[39madd(Reshape(\u001b[38;5;241m7\u001b[39m, \u001b[38;5;241m7\u001b[39m, \u001b[38;5;241m128\u001b[39m))\n\u001b[0;32m     10\u001b[0m generator\u001b[38;5;241m.\u001b[39madd(UpSampling2D())\n\u001b[0;32m     11\u001b[0m generator\u001b[38;5;241m.\u001b[39madd(Conv2D(\u001b[38;5;241m64\u001b[39m, kernel_size\u001b[38;5;241m=\u001b[39m\u001b[38;5;241m5\u001b[39m, padding\u001b[38;5;241m=\u001b[39m\u001b[38;5;124m'\u001b[39m\u001b[38;5;124msame\u001b[39m\u001b[38;5;124m'\u001b[39m))\n",
      "\u001b[1;31mTypeError\u001b[0m: Reshape.__init__() takes 2 positional arguments but 4 were given"
     ]
    }
   ],
   "source": [
    "from tensorflow.keras.models import Sequential\n",
    "from tensorflow.keras.layers import Dense, BatchNormalization, Reshape, UpSampling2D, Conv2D, Activation\n",
    "from tensorflow.keras.layers import LeakyReLU\n",
    "\n",
    "generator = Sequential()\n",
    "\n",
    "generator.add(Dense(128*7*7, input_dim=100, activation=LeakyReLU(0.2)))\n",
    "generator.add(BatchNormalization())\n",
    "generator.add(Reshape(7, 7, 128))\n",
    "generator.add(UpSampling2D())\n",
    "generator.add(Conv2D(64, kernel_size=5, padding='same'))\n",
    "generator.add(BatchNormalization())\n",
    "generator.add(Activation(LeakyReLU(0.2)))\n",
    "generator.add(UpSampling2D())\n",
    "generator.add(Conv2D(1, kernel_size=5, padding='same', activation='tanh'))"
   ]
  }
 ],
 "metadata": {
  "kernelspec": {
   "display_name": "Python [conda env:base] *",
   "language": "python",
   "name": "conda-base-py"
  },
  "language_info": {
   "codemirror_mode": {
    "name": "ipython",
    "version": 3
   },
   "file_extension": ".py",
   "mimetype": "text/x-python",
   "name": "python",
   "nbconvert_exporter": "python",
   "pygments_lexer": "ipython3",
   "version": "3.12.7"
  }
 },
 "nbformat": 4,
 "nbformat_minor": 5
}
