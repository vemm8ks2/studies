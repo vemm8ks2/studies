{
 "cells": [
  {
   "cell_type": "markdown",
   "id": "b17ad9d6-2d6a-41bf-acbf-06b49b464499",
   "metadata": {},
   "source": [
    "#### 1. 텍스트의 토큰화\n",
    "---"
   ]
  },
  {
   "cell_type": "code",
   "execution_count": 1,
   "id": "dc49f718-3450-4790-9a3c-c86e304754fc",
   "metadata": {},
   "outputs": [
    {
     "name": "stdout",
     "output_type": "stream",
     "text": [
      "원문: 해보지 않으면 해낼 수 없다\n",
      "토큰화: ['해보지', '않으면', '해낼', '수', '없다']\n"
     ]
    }
   ],
   "source": [
    "from tensorflow.keras.preprocessing.text import text_to_word_sequence\n",
    "\n",
    "# 전처리 텍스트\n",
    "text = '해보지 않으면 해낼 수 없다'\n",
    "\n",
    "# 텍스트 토큰화\n",
    "result = text_to_word_sequence(text)\n",
    "\n",
    "print(f'원문: {text}')\n",
    "print(f'토큰화: {result}')"
   ]
  },
  {
   "cell_type": "code",
   "execution_count": 3,
   "id": "be9f478a-c990-4e69-a503-4dd36adbf3cb",
   "metadata": {},
   "outputs": [],
   "source": [
    "from tensorflow.keras.preprocessing.text import Tokenizer\n",
    "\n",
    "docs = [\n",
    "    '먼저 텍스트의 각 단어를 나누어 토큰화합니다.',\n",
    "    '텍스트의 단어로 토큰화해야 딥러닝에서 인식됩니다.',\n",
    "    '토큰화한 결과는 딥러닝에서 사용할 수 있습니다.'\n",
    "]\n",
    "\n",
    "token = Tokenizer() # 토큰화 함수\n",
    "token.fit_on_texts(docs) # 토큰화 함수 적용"
   ]
  },
  {
   "cell_type": "code",
   "execution_count": 5,
   "id": "c60bd3a7-aaf6-4aaf-ae48-f7df663a4c84",
   "metadata": {},
   "outputs": [
    {
     "name": "stdout",
     "output_type": "stream",
     "text": [
      "단어 카운트\n",
      "=> OrderedDict({'먼저': 1, '텍스트의': 2, '각': 1, '단어를': 1, '나누어': 1, '토큰화합니다': 1, '단어로': 1, '토큰화해야': 1, '딥러닝에서': 2, '인식됩니다': 1, '토큰화한': 1, '결과는': 1, '사용할': 1, '수': 1, '있습니다': 1})\n",
      "\n",
      "문장 카운트\n",
      "=> 3\n",
      "\n",
      "각 단어가 몇 개의 문장에 포함되어 있는가\n",
      "=> defaultdict(<class 'int'>, {'먼저': 1, '나누어': 1, '각': 1, '단어를': 1, '텍스트의': 2, '토큰화합니다': 1, '인식됩니다': 1, '단어로': 1, '딥러닝에서': 2, '토큰화해야': 1, '사용할': 1, '수': 1, '있습니다': 1, '결과는': 1, '토큰화한': 1})\n",
      "\n",
      "각 단어에 매겨진 인덱스 값\n",
      "=> {'텍스트의': 1, '딥러닝에서': 2, '먼저': 3, '각': 4, '단어를': 5, '나누어': 6, '토큰화합니다': 7, '단어로': 8, '토큰화해야': 9, '인식됩니다': 10, '토큰화한': 11, '결과는': 12, '사용할': 13, '수': 14, '있습니다': 15}\n"
     ]
    }
   ],
   "source": [
    "print(f'단어 카운트')\n",
    "print(f'==> {token.word_counts}')\n",
    "\n",
    "print(f'문장 카운트')\n",
    "print(f'==> {token.document_count}')\n",
    "\n",
    "print(f'각 단어가 몇 개의 문장에 포함되어 있는가')\n",
    "print(f'==> {token.word_docs}')\n",
    "\n",
    "print(f'각 단어에 매겨진 인덱스 값\\n=> {token.word_index}')"
   ]
  },
  {
   "cell_type": "code",
   "execution_count": null,
   "id": "fc48eb1b-2e71-4f70-9efe-ed90b7044ad4",
   "metadata": {},
   "outputs": [],
   "source": []
  }
 ],
 "metadata": {
  "kernelspec": {
   "display_name": "Python 3 (ipykernel)",
   "language": "python",
   "name": "python3"
  },
  "language_info": {
   "codemirror_mode": {
    "name": "ipython",
    "version": 3
   },
   "file_extension": ".py",
   "mimetype": "text/x-python",
   "name": "python",
   "nbconvert_exporter": "python",
   "pygments_lexer": "ipython3",
   "version": "3.12.7"
  }
 },
 "nbformat": 4,
 "nbformat_minor": 5
}
