{
 "cells": [
  {
   "cell_type": "markdown",
   "id": "b17ad9d6-2d6a-41bf-acbf-06b49b464499",
   "metadata": {},
   "source": [
    "#### 1. 텍스트의 토큰화\n",
    "---"
   ]
  },
  {
   "cell_type": "code",
   "execution_count": 1,
   "id": "dc49f718-3450-4790-9a3c-c86e304754fc",
   "metadata": {},
   "outputs": [
    {
     "name": "stdout",
     "output_type": "stream",
     "text": [
      "원문: 해보지 않으면 해낼 수 없다\n",
      "토큰화: ['해보지', '않으면', '해낼', '수', '없다']\n"
     ]
    }
   ],
   "source": [
    "from tensorflow.keras.preprocessing.text import text_to_word_sequence\n",
    "\n",
    "# 전처리 텍스트\n",
    "text = '해보지 않으면 해낼 수 없다'\n",
    "\n",
    "# 텍스트 토큰화\n",
    "result = text_to_word_sequence(text)\n",
    "\n",
    "print(f'원문: {text}')\n",
    "print(f'토큰화: {result}')"
   ]
  },
  {
   "cell_type": "code",
   "execution_count": 1,
   "id": "be9f478a-c990-4e69-a503-4dd36adbf3cb",
   "metadata": {},
   "outputs": [],
   "source": [
    "from tensorflow.keras.preprocessing.text import Tokenizer\n",
    "\n",
    "docs = [\n",
    "    '먼저 텍스트의 각 단어를 나누어 토큰화합니다.',\n",
    "    '텍스트의 단어로 토큰화해야 딥러닝에서 인식됩니다.',\n",
    "    '토큰화한 결과는 딥러닝에서 사용할 수 있습니다.'\n",
    "]\n",
    "\n",
    "token = Tokenizer() # 토큰화 함수\n",
    "token.fit_on_texts(docs) # 토큰화 함수 적용"
   ]
  },
  {
   "cell_type": "code",
   "execution_count": 7,
   "id": "c60bd3a7-aaf6-4aaf-ae48-f7df663a4c84",
   "metadata": {},
   "outputs": [
    {
     "name": "stdout",
     "output_type": "stream",
     "text": [
      "단어 카운트\n",
      "==> OrderedDict({'먼저': 1, '텍스트의': 2, '각': 1, '단어를': 1, '나누어': 1, '토큰화합니다': 1, '단어로': 1, '토큰화해야': 1, '딥러닝에서': 2, '인식됩니다': 1, '토큰화한': 1, '결과는': 1, '사용할': 1, '수': 1, '있습니다': 1})\n",
      "\n",
      "문장 카운트\n",
      "==> 3\n",
      "\n",
      "각 단어가 몇 개의 문장에 포함되어 있는가\n",
      "==> defaultdict(<class 'int'>, {'먼저': 1, '나누어': 1, '각': 1, '단어를': 1, '텍스트의': 2, '토큰화합니다': 1, '인식됩니다': 1, '단어로': 1, '딥러닝에서': 2, '토큰화해야': 1, '사용할': 1, '수': 1, '있습니다': 1, '결과는': 1, '토큰화한': 1})\n",
      "\n",
      "각 단어에 매겨진 인덱스 값\n",
      "==> {'텍스트의': 1, '딥러닝에서': 2, '먼저': 3, '각': 4, '단어를': 5, '나누어': 6, '토큰화합니다': 7, '단어로': 8, '토큰화해야': 9, '인식됩니다': 10, '토큰화한': 11, '결과는': 12, '사용할': 13, '수': 14, '있습니다': 15}\n",
      "\n"
     ]
    }
   ],
   "source": [
    "print(f'단어 카운트')\n",
    "print(f'==> {token.word_counts}\\n')\n",
    "\n",
    "print(f'문장 카운트')\n",
    "print(f'==> {token.document_count}\\n')\n",
    "\n",
    "print(f'각 단어가 몇 개의 문장에 포함되어 있는가')\n",
    "print(f'==> {token.word_docs}\\n')\n",
    "\n",
    "print(f'각 단어에 매겨진 인덱스 값')\n",
    "print(f'==> {token.word_index}\\n')"
   ]
  },
  {
   "cell_type": "markdown",
   "id": "1456431b-0162-41b9-bcf6-c8c444445dbb",
   "metadata": {},
   "source": [
    "<br>\n",
    "\n",
    "#### 2. 단어의 원-핫 인코딩\n",
    "---"
   ]
  },
  {
   "cell_type": "code",
   "execution_count": 2,
   "id": "85bc43ca-c333-4163-b1b5-9479142af8fe",
   "metadata": {},
   "outputs": [
    {
     "name": "stdout",
     "output_type": "stream",
     "text": [
      "{'오랫동안': 1, '꿈꾸는': 2, '이는': 3, '그': 4, '꿈을': 5, '닮아간다': 6}\n"
     ]
    }
   ],
   "source": [
    "text = '오랫동안 꿈꾸는 이는 그 꿈을 닮아간다'\n",
    "\n",
    "token = Tokenizer()\n",
    "token.fit_on_texts([text])\n",
    "\n",
    "print(token.word_index)"
   ]
  },
  {
   "cell_type": "code",
   "execution_count": 3,
   "id": "c6d67d79-32d3-412b-80bd-894ed9c94c31",
   "metadata": {},
   "outputs": [
    {
     "name": "stdout",
     "output_type": "stream",
     "text": [
      "[[1, 2, 3, 4, 5, 6]]\n"
     ]
    }
   ],
   "source": [
    "x = token.texts_to_sequences([text])\n",
    "\n",
    "print(x)"
   ]
  },
  {
   "cell_type": "code",
   "execution_count": 4,
   "id": "8ae7c133-a5c7-4a9b-a85e-d3b992da7136",
   "metadata": {},
   "outputs": [
    {
     "name": "stdout",
     "output_type": "stream",
     "text": [
      "[[[0. 1. 0. 0. 0. 0. 0.]\n",
      "  [0. 0. 1. 0. 0. 0. 0.]\n",
      "  [0. 0. 0. 1. 0. 0. 0.]\n",
      "  [0. 0. 0. 0. 1. 0. 0.]\n",
      "  [0. 0. 0. 0. 0. 1. 0.]\n",
      "  [0. 0. 0. 0. 0. 0. 1.]]]\n"
     ]
    }
   ],
   "source": [
    "from tensorflow.keras.utils import to_categorical\n",
    "\n",
    "# 인덱스 수 하나 추가 및 원-핫 인코딩 배열 생성\n",
    "word_size = len(token.word_index) + 1\n",
    "x = to_categorical(x, num_classes=word_size)\n",
    "\n",
    "print(x)"
   ]
  }
 ],
 "metadata": {
  "kernelspec": {
   "display_name": "Python 3 (ipykernel)",
   "language": "python",
   "name": "python3"
  },
  "language_info": {
   "codemirror_mode": {
    "name": "ipython",
    "version": 3
   },
   "file_extension": ".py",
   "mimetype": "text/x-python",
   "name": "python",
   "nbconvert_exporter": "python",
   "pygments_lexer": "ipython3",
   "version": "3.12.7"
  }
 },
 "nbformat": 4,
 "nbformat_minor": 5
}
